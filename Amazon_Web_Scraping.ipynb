{
  "cells": [
    {
      "cell_type": "code",
      "execution_count": 27,
      "id": "ae3c062d",
      "metadata": {
        "id": "ae3c062d"
      },
      "outputs": [],
      "source": [
        "# importing libraries\n",
        "\n",
        "from bs4 import BeautifulSoup\n",
        "import requests\n",
        "import time\n",
        "import datetime\n",
        "import smtplib"
      ]
    },
    {
      "cell_type": "code",
      "execution_count": 36,
      "id": "f436b8f2",
      "metadata": {
        "colab": {
          "base_uri": "https://localhost:8080/"
        },
        "id": "f436b8f2",
        "outputId": "aabd47f8-8d6f-44b8-da35-75738a21d290"
      },
      "outputs": [
        {
          "output_type": "stream",
          "name": "stdout",
          "text": [
            "Title: Titan Men's Metropolitan Charm: Men's Multifunctional Black Watch with Metallic Accents-NS1805NM02\n",
            "Price: 4,845\n"
          ]
        }
      ],
      "source": [
        "import requests\n",
        "from bs4 import BeautifulSoup\n",
        "\n",
        "# URL of the Amazon product page\n",
        "URL = 'https://www.amazon.in/Titan-Mens-Metropolitan-Charm-Accents-NS1805NM02/dp/B08JM29834/ref=sr_1_31?crid=F7DOFF8LZ2HC&dib=eyJ2IjoiMSJ9._IoTSdambreIqPOV-r8zx_JJGxVjiN1CSfJRQCclIGT9e8_tN659vcLTBObpIV2wEv1p4PQKkhhToT9JOLNjHzix5BxEPeaZ2Lv7kHGZ8EoXfN3fqwIecqeh8MNtiSB2YuUbasL0doJIoxA1oNs3akQ79YmrsVGdW2zjUQ2eUuIU1cNSgST_TskeWzCYwsfFA2URaLElC9-lTv9v_4gDb18XOLao_MWVcv-FianC5rCzc7Emr2f20sQoe_UgQ19G4Z1DuvmT2yIgcPjHNc00LtivJq4BDvw_gNrFz6uVaPgBNOcrqPy8ql6NSQtDwNJZtnv2L9azu5FVr3jBeVMcQffnzOS-9k664DGsUJxBPKS1muO2OVh6jHWybCfslyMrhIpZfvH_4yKPHtUwfiBfkk9AEl0RkGH1hfl6RgJ5EeAk4NeaNZ4bS2J2gyPu0UOZ.J1hjoInigHSGLw-XfEoorEDuXWQN1TnOAEPX7wC2_8Q&dib_tag=se&keywords=watches+for+man&qid=1737568628&sprefix=%2Caps%2C187&sr=8-31'\n",
        "# Headers to mimic a browser request\n",
        "headers = {\n",
        "    \"User-Agent\": (\n",
        "        \"Mozilla/5.0 (Windows NT 10.0; Win64; x64) AppleWebKit/537.36 \"\n",
        "        \"(KHTML, like Gecko) Chrome/112.0.0.0 Safari/537.36\"\n",
        "    ),\n",
        "    \"Accept\": \"text/html,application/xhtml+xml,application/xml;q=0.9,image/avif,image/webp,*/*;q=0.8\",\n",
        "    \"Accept-Encoding\": \"gzip, deflate, br\",\n",
        "    \"Accept-Language\": \"en-US,en;q=0.5\",\n",
        "    \"Connection\": \"keep-alive\",\n",
        "    \"DNT\": \"1\",\n",
        "    \"Upgrade-Insecure-Requests\": \"1\",\n",
        "}\n",
        "\n",
        "# Send a GET request\n",
        "response = requests.get(URL, headers=headers)\n",
        "\n",
        "# Check the response status\n",
        "if response.status_code == 200:\n",
        "    soup = BeautifulSoup(response.content, \"html.parser\")\n",
        "\n",
        "    # Debug HTML\n",
        "    # print(soup.prettify())  # Uncomment this to inspect the fetched HTML\n",
        "\n",
        "    # Extract title and price\n",
        "    title_element = soup.find(id=\"productTitle\")\n",
        "    title = title_element.get_text().strip() if title_element else \"Title not found\"\n",
        "\n",
        "    price_element = soup.find(\"span\", class_=\"a-price-whole\")\n",
        "    price = price_element.get_text().strip() if price_element else \"Price not found\"\n",
        "\n",
        "    print(f\"Title: {title}\")\n",
        "    print(f\"Price: {price}\")\n",
        "else:\n",
        "    print(f\"Failed to retrieve page. Status code: {response.status_code}\")\n"
      ]
    },
    {
      "cell_type": "code",
      "source": [
        "# Creating a Timestamp for the output to track when data was collected\n",
        "\n",
        "import datetime\n",
        "\n",
        "today = datetime.date.today()\n",
        "\n",
        "print(today)"
      ],
      "metadata": {
        "colab": {
          "base_uri": "https://localhost:8080/"
        },
        "id": "NmY6E9RmF7Si",
        "outputId": "80a3dfd8-cb1d-4b20-f212-ce97de3c5116"
      },
      "id": "NmY6E9RmF7Si",
      "execution_count": 37,
      "outputs": [
        {
          "output_type": "stream",
          "name": "stdout",
          "text": [
            "2025-01-22\n"
          ]
        }
      ]
    },
    {
      "cell_type": "code",
      "source": [
        "# Creating CSV and write headers and data into the file\n",
        "\n",
        "import csv\n",
        "\n",
        "header = ['Title', 'Price', 'Date']\n",
        "data = [title, price, today]\n",
        "\n",
        "\n",
        "with open('AmazonWebScraperDataset.csv', 'w', newline='', encoding='UTF8') as f:\n",
        "    writer = csv.writer(f)\n",
        "    writer.writerow(header)\n",
        "    writer.writerow(data)"
      ],
      "metadata": {
        "id": "eImhgz5tF7VP"
      },
      "id": "eImhgz5tF7VP",
      "execution_count": 38,
      "outputs": []
    },
    {
      "cell_type": "code",
      "source": [
        "import pandas as pd\n",
        "\n",
        "df = pd.read_csv(r'/content/AmazonWebScraperDataset.csv')\n",
        "\n",
        "print(df)"
      ],
      "metadata": {
        "colab": {
          "base_uri": "https://localhost:8080/"
        },
        "id": "LXodFFmxF7X4",
        "outputId": "f2fa63c8-792e-4740-ea34-2be7d0ec1fe9"
      },
      "id": "LXodFFmxF7X4",
      "execution_count": 39,
      "outputs": [
        {
          "output_type": "stream",
          "name": "stdout",
          "text": [
            "                                               Title  Price        Date\n",
            "0  Titan Men's Metropolitan Charm: Men's Multifun...  4,845  2025-01-22\n"
          ]
        }
      ]
    },
    {
      "cell_type": "code",
      "source": [
        "#Now we are appending data to the csv\n",
        "\n",
        "with open('AmazonWebScraperDataset.csv', 'a+', newline='', encoding='UTF8') as f:\n",
        "    writer = csv.writer(f)\n",
        "    writer.writerow(data)"
      ],
      "metadata": {
        "id": "G1IN1KbrGr9j"
      },
      "id": "G1IN1KbrGr9j",
      "execution_count": 40,
      "outputs": []
    },
    {
      "cell_type": "code",
      "source": [
        "# We can also send a mail of the proce falls below our given condition\n",
        "\n",
        "def send_mail():\n",
        "    server = smtplib.SMTP_SSL('smtp.gmail.com',465)\n",
        "    server.ehlo()\n",
        "    #server.starttls()\n",
        "    server.ehlo()\n",
        "    server.login('akhileshmedikonda2004@gmail.com','xxxxxxx')\n",
        "\n",
        "    subject = \"The Watch you want is now 4845! Now is your chance to buy!\"\n",
        "    body = \"Akhilesh, This is the moment we have been waiting for. Now is your chance to pick up the watch of your dreams. Don't mess it up! Link here: https://www.amazon.in/Titan-Mens-Metropolitan-Charm-Accents-NS1805NM02/dp/B08JM29834/ref=sr_1_31?crid=F7DOFF8LZ2HC&dib=eyJ2IjoiMSJ9._IoTSdambreIqPOV-r8zx_JJGxVjiN1CSfJRQCclIGT9e8_tN659vcLTBObpIV2wEv1p4PQKkhhToT9JOLNjHzix5BxEPeaZ2Lv7kHGZ8EoXfN3fqwIecqeh8MNtiSB2YuUbasL0doJIoxA1oNs3akQ79YmrsVGdW2zjUQ2eUuIU1cNSgST_TskeWzCYwsfFA2URaLElC9-lTv9v_4gDb18XOLao_MWVcv-FianC5rCzc7Emr2f20sQoe_UgQ19G4Z1DuvmT2yIgcPjHNc00LtivJq4BDvw_gNrFz6uVaPgBNOcrqPy8ql6NSQtDwNJZtnv2L9azu5FVr3jBeVMcQffnzOS-9k664DGsUJxBPKS1muO2OVh6jHWybCfslyMrhIpZfvH_4yKPHtUwfiBfkk9AEl0RkGH1hfl6RgJ5EeAk4NeaNZ4bS2J2gyPu0UOZ.J1hjoInigHSGLw-XfEoorEDuXWQN1TnOAEPX7wC2_8Q&dib_tag=se&keywords=watches+for+man&qid=1737568628&sprefix=%2Caps%2C187&sr=8-31\"\n",
        "\n",
        "    msg = f\"Subject: {subject}\\n\\n{body}\"\n",
        "\n",
        "    server.sendmail(\n",
        "        'akhileshmedikonda2004@gmail.com',\n",
        "        msg\n",
        "\n",
        "    )"
      ],
      "metadata": {
        "id": "O9gQZyLCF7fU"
      },
      "id": "O9gQZyLCF7fU",
      "execution_count": 69,
      "outputs": []
    },
    {
      "cell_type": "code",
      "source": [
        "import requests\n",
        "from bs4 import BeautifulSoup\n",
        "import datetime\n",
        "import csv\n",
        "import time\n",
        "\n",
        "# Function to scrape Amazon product data and save to CSV\n",
        "def check_price():\n",
        "    # URL of the Amazon product page\n",
        "    URL = 'https://www.amazon.in/Titan-Mens-Metropolitan-Charm-Accents-NS1805NM02/dp/B08JM29834/ref=sr_1_31?crid=F7DOFF8LZ2HC&keywords=watches+for+man&qid=1737568628&sprefix=%2Caps%2C187&sr=8-31'\n",
        "\n",
        "    # Headers to mimic a browser request\n",
        "    headers = {\n",
        "        \"User-Agent\": (\n",
        "            \"Mozilla/5.0 (Windows NT 10.0; Win64; x64) AppleWebKit/537.36 \"\n",
        "            \"(KHTML, like Gecko) Chrome/112.0.0.0 Safari/537.36\"\n",
        "        ),\n",
        "        \"Accept\": \"text/html,application/xhtml+xml,application/xml;q=0.9,image/avif,image/webp,*/*;q=0.8\",\n",
        "        \"Accept-Encoding\": \"gzip, deflate, br\",\n",
        "        \"Accept-Language\": \"en-US,en;q=0.5\",\n",
        "        \"Connection\": \"keep-alive\",\n",
        "        \"DNT\": \"1\",\n",
        "        \"Upgrade-Insecure-Requests\": \"1\",\n",
        "    }\n",
        "\n",
        "    try:\n",
        "        # Send a GET request\n",
        "        response = requests.get(URL, headers=headers)\n",
        "\n",
        "        if response.status_code == 200:\n",
        "            soup = BeautifulSoup(response.content, \"html.parser\")\n",
        "\n",
        "            # Extract title and price\n",
        "            title_element = soup.find(id=\"productTitle\")\n",
        "            title = title_element.get_text().strip() if title_element else \"Title not found\"\n",
        "\n",
        "            price_element = soup.find(\"span\", class_=\"a-price-whole\")\n",
        "            #price = price_element.get_text().strip() if price_element else \"Price not found\"\n",
        "\n",
        "            # Get today's date\n",
        "            today = datetime.date.today()\n",
        "\n",
        "            # Append data to CSV\n",
        "            with open('AmazonWebScraperDataset.csv', 'a+', newline='', encoding='UTF8') as f:\n",
        "                writer = csv.writer(f)\n",
        "\n",
        "                # Write header only if the file is empty\n",
        "                f.seek(0)\n",
        "                if not f.read(1):\n",
        "                    writer.writerow(['Title', 'Price', 'Date'])\n",
        "\n",
        "                # Write the row\n",
        "                writer.writerow([title, price, today])\n",
        "\n",
        "        # Skip printing output to keep the script silent\n",
        "    except Exception as e:\n",
        "        # Silent handling of any errors\n",
        "        pass\n",
        "\n",
        "# We are converting the price from str to int before giving it an if condition\n",
        "if price_element:\n",
        "    # Extract price text and clean it\n",
        "    price_text = price_element.get_text().strip()\n",
        "\n",
        "    # Remove commas and currency symbol, then further clean the string\n",
        "    c_price = price_text.replace(\",\", \"\").replace(\"₹\", \"\").strip()\n",
        "\n",
        "    # Remove any non-visible characters (e.g., zero-width spaces)\n",
        "    c_price = ''.join(c for c in c_price if c.isprintable())\n",
        "\n",
        "    # Debugging step: Check the type, length, and representation of the cleaned price\n",
        "    print(f\"Cleaned price: '{repr(c_price)}'\")  # Using repr() to show invisible characters\n",
        "    print(f\"Type of cleaned price: {type(c_price)}\")  # Check type\n",
        "    print(f\"Length of cleaned price: {len(c_price)}\")  # Check if it's unexpectedly long or has hidden characters\n",
        "\n",
        "    try:\n",
        "        # Attempt to convert to integer\n",
        "        price = int(c_price)\n",
        "\n",
        "        # Check the condition\n",
        "        if price == 4845:\n",
        "            send_mail()\n",
        "        else:\n",
        "            print(f\"Price ({price}) does not match the target value.\")\n",
        "    except ValueError as e:\n",
        "        print(f\"Price conversion failed. Unable to compare. Raw price value: {repr(c_price)}\")\n",
        "        print(f\"Error: {e}\")\n",
        "else:\n",
        "    print(\"Price not found.\")\n",
        "\n"
      ],
      "metadata": {
        "colab": {
          "base_uri": "https://localhost:8080/"
        },
        "id": "njAxgsaSIPVZ",
        "outputId": "db9037fe-6aab-4193-9147-88b3c44be1d5"
      },
      "id": "njAxgsaSIPVZ",
      "execution_count": 80,
      "outputs": [
        {
          "output_type": "stream",
          "name": "stdout",
          "text": [
            "Cleaned price: ''4845''\n",
            "Type of cleaned price: <class 'str'>\n",
            "Length of cleaned price: 4\n",
            "Price conversion failed. Unable to compare. Raw price value: '4845'\n",
            "Error: App password is not set. Please set the environment variable 'GMAIL_APP_PASSWORD'.\n"
          ]
        }
      ]
    },
    {
      "cell_type": "code",
      "source": [
        "import smtplib\n",
        "import os\n",
        "\n",
        "def send_mail():\n",
        "    # Initialize the SMTP server\n",
        "    server = smtplib.SMTP_SSL('smtp.gmail.com', 465)\n",
        "    server.ehlo()\n",
        "\n",
        "    # Use the app password from environment variables\n",
        "    app_password = os.getenv(\"GMAIL_APP_PASSWORD\")\n",
        "\n",
        "    if not app_password:\n",
        "        raise ValueError(\"App password is not set. Please set the environment variable 'GMAIL_APP_PASSWORD'.\")\n",
        "\n",
        "    # Login with email and app password\n",
        "    server.login('akhileshmedikonda2004@gmail.com', app_password)\n",
        "\n",
        "    subject = \"The Shirt you want is below $15! Now is your chance to buy!\"\n",
        "    body = \"Akhilesh, This is the moment we have been waiting for. Link here: https://www.amazon.in/\"\n",
        "\n",
        "    msg = f\"Subject: {subject}\\n\\n{body}\"\n",
        "\n",
        "    # Send the email\n",
        "    server.sendmail(\n",
        "        'akhileshmedikonda2004@gmail.com',  # From email\n",
        "        'akhileshmedikonda2004@gmail.com',  # To email\n",
        "        msg\n",
        "    )\n",
        "\n",
        "    print(\"Email sent successfully!\")\n",
        "    server.close()\n"
      ],
      "metadata": {
        "id": "N0mJwG1AW3T6"
      },
      "id": "N0mJwG1AW3T6",
      "execution_count": 77,
      "outputs": []
    },
    {
      "cell_type": "code",
      "source": [
        "# Run the scraper at regular intervals\n",
        "while True:\n",
        "    check_price()\n",
        "    time.sleep(1)  # The csv file gets updated after every '1' second"
      ],
      "metadata": {
        "id": "vnLsMC4NF7aw",
        "colab": {
          "base_uri": "https://localhost:8080/",
          "height": 339
        },
        "outputId": "d0844517-f6f2-4b02-8c27-cbf248d27e6c"
      },
      "id": "vnLsMC4NF7aw",
      "execution_count": 54,
      "outputs": [
        {
          "output_type": "error",
          "ename": "KeyboardInterrupt",
          "evalue": "",
          "traceback": [
            "\u001b[0;31m---------------------------------------------------------------------------\u001b[0m",
            "\u001b[0;31mKeyboardInterrupt\u001b[0m                         Traceback (most recent call last)",
            "\u001b[0;32m<ipython-input-54-d3fbf104d077>\u001b[0m in \u001b[0;36m<cell line: 0>\u001b[0;34m()\u001b[0m\n\u001b[1;32m      1\u001b[0m \u001b[0;31m# Run the scraper at regular intervals\u001b[0m\u001b[0;34m\u001b[0m\u001b[0;34m\u001b[0m\u001b[0m\n\u001b[1;32m      2\u001b[0m \u001b[0;32mwhile\u001b[0m \u001b[0;32mTrue\u001b[0m\u001b[0;34m:\u001b[0m\u001b[0;34m\u001b[0m\u001b[0;34m\u001b[0m\u001b[0m\n\u001b[0;32m----> 3\u001b[0;31m     \u001b[0mcheck_price\u001b[0m\u001b[0;34m(\u001b[0m\u001b[0;34m)\u001b[0m\u001b[0;34m\u001b[0m\u001b[0;34m\u001b[0m\u001b[0m\n\u001b[0m\u001b[1;32m      4\u001b[0m     \u001b[0mtime\u001b[0m\u001b[0;34m.\u001b[0m\u001b[0msleep\u001b[0m\u001b[0;34m(\u001b[0m\u001b[0;36m1\u001b[0m\u001b[0;34m)\u001b[0m  \u001b[0;31m# Wait for 30 seconds before checking again\u001b[0m\u001b[0;34m\u001b[0m\u001b[0;34m\u001b[0m\u001b[0m\n",
            "\u001b[0;32m<ipython-input-53-3cd6446ffd1b>\u001b[0m in \u001b[0;36mcheck_price\u001b[0;34m()\u001b[0m\n\u001b[1;32m     26\u001b[0m     \u001b[0;32mtry\u001b[0m\u001b[0;34m:\u001b[0m\u001b[0;34m\u001b[0m\u001b[0;34m\u001b[0m\u001b[0m\n\u001b[1;32m     27\u001b[0m         \u001b[0;31m# Send a GET request\u001b[0m\u001b[0;34m\u001b[0m\u001b[0;34m\u001b[0m\u001b[0m\n\u001b[0;32m---> 28\u001b[0;31m         \u001b[0mresponse\u001b[0m \u001b[0;34m=\u001b[0m \u001b[0mrequests\u001b[0m\u001b[0;34m.\u001b[0m\u001b[0mget\u001b[0m\u001b[0;34m(\u001b[0m\u001b[0mURL\u001b[0m\u001b[0;34m,\u001b[0m \u001b[0mheaders\u001b[0m\u001b[0;34m=\u001b[0m\u001b[0mheaders\u001b[0m\u001b[0;34m)\u001b[0m\u001b[0;34m\u001b[0m\u001b[0;34m\u001b[0m\u001b[0m\n\u001b[0m\u001b[1;32m     29\u001b[0m \u001b[0;34m\u001b[0m\u001b[0m\n\u001b[1;32m     30\u001b[0m         \u001b[0;32mif\u001b[0m \u001b[0mresponse\u001b[0m\u001b[0;34m.\u001b[0m\u001b[0mstatus_code\u001b[0m \u001b[0;34m==\u001b[0m \u001b[0;36m200\u001b[0m\u001b[0;34m:\u001b[0m\u001b[0;34m\u001b[0m\u001b[0;34m\u001b[0m\u001b[0m\n",
            "\u001b[0;32m/usr/local/lib/python3.11/dist-packages/requests/api.py\u001b[0m in \u001b[0;36mget\u001b[0;34m(url, params, **kwargs)\u001b[0m\n\u001b[1;32m     71\u001b[0m     \"\"\"\n\u001b[1;32m     72\u001b[0m \u001b[0;34m\u001b[0m\u001b[0m\n\u001b[0;32m---> 73\u001b[0;31m     \u001b[0;32mreturn\u001b[0m \u001b[0mrequest\u001b[0m\u001b[0;34m(\u001b[0m\u001b[0;34m\"get\"\u001b[0m\u001b[0;34m,\u001b[0m \u001b[0murl\u001b[0m\u001b[0;34m,\u001b[0m \u001b[0mparams\u001b[0m\u001b[0;34m=\u001b[0m\u001b[0mparams\u001b[0m\u001b[0;34m,\u001b[0m \u001b[0;34m**\u001b[0m\u001b[0mkwargs\u001b[0m\u001b[0;34m)\u001b[0m\u001b[0;34m\u001b[0m\u001b[0;34m\u001b[0m\u001b[0m\n\u001b[0m\u001b[1;32m     74\u001b[0m \u001b[0;34m\u001b[0m\u001b[0m\n\u001b[1;32m     75\u001b[0m \u001b[0;34m\u001b[0m\u001b[0m\n",
            "\u001b[0;32m/usr/local/lib/python3.11/dist-packages/requests/api.py\u001b[0m in \u001b[0;36mrequest\u001b[0;34m(method, url, **kwargs)\u001b[0m\n\u001b[1;32m     57\u001b[0m     \u001b[0;31m# cases, and look like a memory leak in others.\u001b[0m\u001b[0;34m\u001b[0m\u001b[0;34m\u001b[0m\u001b[0m\n\u001b[1;32m     58\u001b[0m     \u001b[0;32mwith\u001b[0m \u001b[0msessions\u001b[0m\u001b[0;34m.\u001b[0m\u001b[0mSession\u001b[0m\u001b[0;34m(\u001b[0m\u001b[0;34m)\u001b[0m \u001b[0;32mas\u001b[0m \u001b[0msession\u001b[0m\u001b[0;34m:\u001b[0m\u001b[0;34m\u001b[0m\u001b[0;34m\u001b[0m\u001b[0m\n\u001b[0;32m---> 59\u001b[0;31m         \u001b[0;32mreturn\u001b[0m \u001b[0msession\u001b[0m\u001b[0;34m.\u001b[0m\u001b[0mrequest\u001b[0m\u001b[0;34m(\u001b[0m\u001b[0mmethod\u001b[0m\u001b[0;34m=\u001b[0m\u001b[0mmethod\u001b[0m\u001b[0;34m,\u001b[0m \u001b[0murl\u001b[0m\u001b[0;34m=\u001b[0m\u001b[0murl\u001b[0m\u001b[0;34m,\u001b[0m \u001b[0;34m**\u001b[0m\u001b[0mkwargs\u001b[0m\u001b[0;34m)\u001b[0m\u001b[0;34m\u001b[0m\u001b[0;34m\u001b[0m\u001b[0m\n\u001b[0m\u001b[1;32m     60\u001b[0m \u001b[0;34m\u001b[0m\u001b[0m\n\u001b[1;32m     61\u001b[0m \u001b[0;34m\u001b[0m\u001b[0m\n",
            "\u001b[0;32m/usr/local/lib/python3.11/dist-packages/requests/sessions.py\u001b[0m in \u001b[0;36mrequest\u001b[0;34m(self, method, url, params, data, headers, cookies, files, auth, timeout, allow_redirects, proxies, hooks, stream, verify, cert, json)\u001b[0m\n\u001b[1;32m    587\u001b[0m         }\n\u001b[1;32m    588\u001b[0m         \u001b[0msend_kwargs\u001b[0m\u001b[0;34m.\u001b[0m\u001b[0mupdate\u001b[0m\u001b[0;34m(\u001b[0m\u001b[0msettings\u001b[0m\u001b[0;34m)\u001b[0m\u001b[0;34m\u001b[0m\u001b[0;34m\u001b[0m\u001b[0m\n\u001b[0;32m--> 589\u001b[0;31m         \u001b[0mresp\u001b[0m \u001b[0;34m=\u001b[0m \u001b[0mself\u001b[0m\u001b[0;34m.\u001b[0m\u001b[0msend\u001b[0m\u001b[0;34m(\u001b[0m\u001b[0mprep\u001b[0m\u001b[0;34m,\u001b[0m \u001b[0;34m**\u001b[0m\u001b[0msend_kwargs\u001b[0m\u001b[0;34m)\u001b[0m\u001b[0;34m\u001b[0m\u001b[0;34m\u001b[0m\u001b[0m\n\u001b[0m\u001b[1;32m    590\u001b[0m \u001b[0;34m\u001b[0m\u001b[0m\n\u001b[1;32m    591\u001b[0m         \u001b[0;32mreturn\u001b[0m \u001b[0mresp\u001b[0m\u001b[0;34m\u001b[0m\u001b[0;34m\u001b[0m\u001b[0m\n",
            "\u001b[0;32m/usr/local/lib/python3.11/dist-packages/requests/sessions.py\u001b[0m in \u001b[0;36msend\u001b[0;34m(self, request, **kwargs)\u001b[0m\n\u001b[1;32m    744\u001b[0m \u001b[0;34m\u001b[0m\u001b[0m\n\u001b[1;32m    745\u001b[0m         \u001b[0;32mif\u001b[0m \u001b[0;32mnot\u001b[0m \u001b[0mstream\u001b[0m\u001b[0;34m:\u001b[0m\u001b[0;34m\u001b[0m\u001b[0;34m\u001b[0m\u001b[0m\n\u001b[0;32m--> 746\u001b[0;31m             \u001b[0mr\u001b[0m\u001b[0;34m.\u001b[0m\u001b[0mcontent\u001b[0m\u001b[0;34m\u001b[0m\u001b[0;34m\u001b[0m\u001b[0m\n\u001b[0m\u001b[1;32m    747\u001b[0m \u001b[0;34m\u001b[0m\u001b[0m\n\u001b[1;32m    748\u001b[0m         \u001b[0;32mreturn\u001b[0m \u001b[0mr\u001b[0m\u001b[0;34m\u001b[0m\u001b[0;34m\u001b[0m\u001b[0m\n",
            "\u001b[0;32m/usr/local/lib/python3.11/dist-packages/requests/models.py\u001b[0m in \u001b[0;36mcontent\u001b[0;34m(self)\u001b[0m\n\u001b[1;32m    900\u001b[0m                 \u001b[0mself\u001b[0m\u001b[0;34m.\u001b[0m\u001b[0m_content\u001b[0m \u001b[0;34m=\u001b[0m \u001b[0;32mNone\u001b[0m\u001b[0;34m\u001b[0m\u001b[0;34m\u001b[0m\u001b[0m\n\u001b[1;32m    901\u001b[0m             \u001b[0;32melse\u001b[0m\u001b[0;34m:\u001b[0m\u001b[0;34m\u001b[0m\u001b[0;34m\u001b[0m\u001b[0m\n\u001b[0;32m--> 902\u001b[0;31m                 \u001b[0mself\u001b[0m\u001b[0;34m.\u001b[0m\u001b[0m_content\u001b[0m \u001b[0;34m=\u001b[0m \u001b[0;34mb\"\"\u001b[0m\u001b[0;34m.\u001b[0m\u001b[0mjoin\u001b[0m\u001b[0;34m(\u001b[0m\u001b[0mself\u001b[0m\u001b[0;34m.\u001b[0m\u001b[0miter_content\u001b[0m\u001b[0;34m(\u001b[0m\u001b[0mCONTENT_CHUNK_SIZE\u001b[0m\u001b[0;34m)\u001b[0m\u001b[0;34m)\u001b[0m \u001b[0;32mor\u001b[0m \u001b[0;34mb\"\"\u001b[0m\u001b[0;34m\u001b[0m\u001b[0;34m\u001b[0m\u001b[0m\n\u001b[0m\u001b[1;32m    903\u001b[0m \u001b[0;34m\u001b[0m\u001b[0m\n\u001b[1;32m    904\u001b[0m         \u001b[0mself\u001b[0m\u001b[0;34m.\u001b[0m\u001b[0m_content_consumed\u001b[0m \u001b[0;34m=\u001b[0m \u001b[0;32mTrue\u001b[0m\u001b[0;34m\u001b[0m\u001b[0;34m\u001b[0m\u001b[0m\n",
            "\u001b[0;32m/usr/local/lib/python3.11/dist-packages/requests/models.py\u001b[0m in \u001b[0;36mgenerate\u001b[0;34m()\u001b[0m\n\u001b[1;32m    818\u001b[0m             \u001b[0;32mif\u001b[0m \u001b[0mhasattr\u001b[0m\u001b[0;34m(\u001b[0m\u001b[0mself\u001b[0m\u001b[0;34m.\u001b[0m\u001b[0mraw\u001b[0m\u001b[0;34m,\u001b[0m \u001b[0;34m\"stream\"\u001b[0m\u001b[0;34m)\u001b[0m\u001b[0;34m:\u001b[0m\u001b[0;34m\u001b[0m\u001b[0;34m\u001b[0m\u001b[0m\n\u001b[1;32m    819\u001b[0m                 \u001b[0;32mtry\u001b[0m\u001b[0;34m:\u001b[0m\u001b[0;34m\u001b[0m\u001b[0;34m\u001b[0m\u001b[0m\n\u001b[0;32m--> 820\u001b[0;31m                     \u001b[0;32myield\u001b[0m \u001b[0;32mfrom\u001b[0m \u001b[0mself\u001b[0m\u001b[0;34m.\u001b[0m\u001b[0mraw\u001b[0m\u001b[0;34m.\u001b[0m\u001b[0mstream\u001b[0m\u001b[0;34m(\u001b[0m\u001b[0mchunk_size\u001b[0m\u001b[0;34m,\u001b[0m \u001b[0mdecode_content\u001b[0m\u001b[0;34m=\u001b[0m\u001b[0;32mTrue\u001b[0m\u001b[0;34m)\u001b[0m\u001b[0;34m\u001b[0m\u001b[0;34m\u001b[0m\u001b[0m\n\u001b[0m\u001b[1;32m    821\u001b[0m                 \u001b[0;32mexcept\u001b[0m \u001b[0mProtocolError\u001b[0m \u001b[0;32mas\u001b[0m \u001b[0me\u001b[0m\u001b[0;34m:\u001b[0m\u001b[0;34m\u001b[0m\u001b[0;34m\u001b[0m\u001b[0m\n\u001b[1;32m    822\u001b[0m                     \u001b[0;32mraise\u001b[0m \u001b[0mChunkedEncodingError\u001b[0m\u001b[0;34m(\u001b[0m\u001b[0me\u001b[0m\u001b[0;34m)\u001b[0m\u001b[0;34m\u001b[0m\u001b[0;34m\u001b[0m\u001b[0m\n",
            "\u001b[0;32m/usr/local/lib/python3.11/dist-packages/urllib3/response.py\u001b[0m in \u001b[0;36mstream\u001b[0;34m(self, amt, decode_content)\u001b[0m\n\u001b[1;32m   1061\u001b[0m         \"\"\"\n\u001b[1;32m   1062\u001b[0m         \u001b[0;32mif\u001b[0m \u001b[0mself\u001b[0m\u001b[0;34m.\u001b[0m\u001b[0mchunked\u001b[0m \u001b[0;32mand\u001b[0m \u001b[0mself\u001b[0m\u001b[0;34m.\u001b[0m\u001b[0msupports_chunked_reads\u001b[0m\u001b[0;34m(\u001b[0m\u001b[0;34m)\u001b[0m\u001b[0;34m:\u001b[0m\u001b[0;34m\u001b[0m\u001b[0;34m\u001b[0m\u001b[0m\n\u001b[0;32m-> 1063\u001b[0;31m             \u001b[0;32myield\u001b[0m \u001b[0;32mfrom\u001b[0m \u001b[0mself\u001b[0m\u001b[0;34m.\u001b[0m\u001b[0mread_chunked\u001b[0m\u001b[0;34m(\u001b[0m\u001b[0mamt\u001b[0m\u001b[0;34m,\u001b[0m \u001b[0mdecode_content\u001b[0m\u001b[0;34m=\u001b[0m\u001b[0mdecode_content\u001b[0m\u001b[0;34m)\u001b[0m\u001b[0;34m\u001b[0m\u001b[0;34m\u001b[0m\u001b[0m\n\u001b[0m\u001b[1;32m   1064\u001b[0m         \u001b[0;32melse\u001b[0m\u001b[0;34m:\u001b[0m\u001b[0;34m\u001b[0m\u001b[0;34m\u001b[0m\u001b[0m\n\u001b[1;32m   1065\u001b[0m             \u001b[0;32mwhile\u001b[0m \u001b[0;32mnot\u001b[0m \u001b[0mis_fp_closed\u001b[0m\u001b[0;34m(\u001b[0m\u001b[0mself\u001b[0m\u001b[0;34m.\u001b[0m\u001b[0m_fp\u001b[0m\u001b[0;34m)\u001b[0m \u001b[0;32mor\u001b[0m \u001b[0mlen\u001b[0m\u001b[0;34m(\u001b[0m\u001b[0mself\u001b[0m\u001b[0;34m.\u001b[0m\u001b[0m_decoded_buffer\u001b[0m\u001b[0;34m)\u001b[0m \u001b[0;34m>\u001b[0m \u001b[0;36m0\u001b[0m\u001b[0;34m:\u001b[0m\u001b[0;34m\u001b[0m\u001b[0;34m\u001b[0m\u001b[0m\n",
            "\u001b[0;32m/usr/local/lib/python3.11/dist-packages/urllib3/response.py\u001b[0m in \u001b[0;36mread_chunked\u001b[0;34m(self, amt, decode_content)\u001b[0m\n\u001b[1;32m   1221\u001b[0m                     \u001b[0;32mbreak\u001b[0m\u001b[0;34m\u001b[0m\u001b[0;34m\u001b[0m\u001b[0m\n\u001b[1;32m   1222\u001b[0m                 \u001b[0mchunk\u001b[0m \u001b[0;34m=\u001b[0m \u001b[0mself\u001b[0m\u001b[0;34m.\u001b[0m\u001b[0m_handle_chunk\u001b[0m\u001b[0;34m(\u001b[0m\u001b[0mamt\u001b[0m\u001b[0;34m)\u001b[0m\u001b[0;34m\u001b[0m\u001b[0;34m\u001b[0m\u001b[0m\n\u001b[0;32m-> 1223\u001b[0;31m                 decoded = self._decode(\n\u001b[0m\u001b[1;32m   1224\u001b[0m                     \u001b[0mchunk\u001b[0m\u001b[0;34m,\u001b[0m \u001b[0mdecode_content\u001b[0m\u001b[0;34m=\u001b[0m\u001b[0mdecode_content\u001b[0m\u001b[0;34m,\u001b[0m \u001b[0mflush_decoder\u001b[0m\u001b[0;34m=\u001b[0m\u001b[0;32mFalse\u001b[0m\u001b[0;34m\u001b[0m\u001b[0;34m\u001b[0m\u001b[0m\n\u001b[1;32m   1225\u001b[0m                 )\n",
            "\u001b[0;32m/usr/local/lib/python3.11/dist-packages/urllib3/response.py\u001b[0m in \u001b[0;36m_decode\u001b[0;34m(self, data, decode_content, flush_decoder)\u001b[0m\n\u001b[1;32m    483\u001b[0m         \u001b[0;32mtry\u001b[0m\u001b[0;34m:\u001b[0m\u001b[0;34m\u001b[0m\u001b[0;34m\u001b[0m\u001b[0m\n\u001b[1;32m    484\u001b[0m             \u001b[0;32mif\u001b[0m \u001b[0mself\u001b[0m\u001b[0;34m.\u001b[0m\u001b[0m_decoder\u001b[0m\u001b[0;34m:\u001b[0m\u001b[0;34m\u001b[0m\u001b[0;34m\u001b[0m\u001b[0m\n\u001b[0;32m--> 485\u001b[0;31m                 \u001b[0mdata\u001b[0m \u001b[0;34m=\u001b[0m \u001b[0mself\u001b[0m\u001b[0;34m.\u001b[0m\u001b[0m_decoder\u001b[0m\u001b[0;34m.\u001b[0m\u001b[0mdecompress\u001b[0m\u001b[0;34m(\u001b[0m\u001b[0mdata\u001b[0m\u001b[0;34m)\u001b[0m\u001b[0;34m\u001b[0m\u001b[0;34m\u001b[0m\u001b[0m\n\u001b[0m\u001b[1;32m    486\u001b[0m                 \u001b[0mself\u001b[0m\u001b[0;34m.\u001b[0m\u001b[0m_has_decoded_content\u001b[0m \u001b[0;34m=\u001b[0m \u001b[0;32mTrue\u001b[0m\u001b[0;34m\u001b[0m\u001b[0;34m\u001b[0m\u001b[0m\n\u001b[1;32m    487\u001b[0m         \u001b[0;32mexcept\u001b[0m \u001b[0mself\u001b[0m\u001b[0;34m.\u001b[0m\u001b[0mDECODER_ERROR_CLASSES\u001b[0m \u001b[0;32mas\u001b[0m \u001b[0me\u001b[0m\u001b[0;34m:\u001b[0m\u001b[0;34m\u001b[0m\u001b[0;34m\u001b[0m\u001b[0m\n",
            "\u001b[0;32m/usr/local/lib/python3.11/dist-packages/urllib3/response.py\u001b[0m in \u001b[0;36mdecompress\u001b[0;34m(self, data)\u001b[0m\n\u001b[1;32m    126\u001b[0m         \u001b[0;32mwhile\u001b[0m \u001b[0;32mTrue\u001b[0m\u001b[0;34m:\u001b[0m\u001b[0;34m\u001b[0m\u001b[0;34m\u001b[0m\u001b[0m\n\u001b[1;32m    127\u001b[0m             \u001b[0;32mtry\u001b[0m\u001b[0;34m:\u001b[0m\u001b[0;34m\u001b[0m\u001b[0;34m\u001b[0m\u001b[0m\n\u001b[0;32m--> 128\u001b[0;31m                 \u001b[0mret\u001b[0m \u001b[0;34m+=\u001b[0m \u001b[0mself\u001b[0m\u001b[0;34m.\u001b[0m\u001b[0m_obj\u001b[0m\u001b[0;34m.\u001b[0m\u001b[0mdecompress\u001b[0m\u001b[0;34m(\u001b[0m\u001b[0mdata\u001b[0m\u001b[0;34m)\u001b[0m\u001b[0;34m\u001b[0m\u001b[0;34m\u001b[0m\u001b[0m\n\u001b[0m\u001b[1;32m    129\u001b[0m             \u001b[0;32mexcept\u001b[0m \u001b[0mzlib\u001b[0m\u001b[0;34m.\u001b[0m\u001b[0merror\u001b[0m\u001b[0;34m:\u001b[0m\u001b[0;34m\u001b[0m\u001b[0;34m\u001b[0m\u001b[0m\n\u001b[1;32m    130\u001b[0m                 \u001b[0mprevious_state\u001b[0m \u001b[0;34m=\u001b[0m \u001b[0mself\u001b[0m\u001b[0;34m.\u001b[0m\u001b[0m_state\u001b[0m\u001b[0;34m\u001b[0m\u001b[0;34m\u001b[0m\u001b[0m\n",
            "\u001b[0;31mKeyboardInterrupt\u001b[0m: "
          ]
        }
      ]
    },
    {
      "cell_type": "code",
      "source": [
        "import pandas as pd\n",
        "\n",
        "df = pd.read_csv(r'/content/AmazonWebScraperDataset.csv')\n",
        "\n",
        "print(df)"
      ],
      "metadata": {
        "id": "1_lBs7yXF7dL",
        "colab": {
          "base_uri": "https://localhost:8080/"
        },
        "outputId": "4c467761-2736-4ce9-d95b-6d1d690c904c"
      },
      "id": "1_lBs7yXF7dL",
      "execution_count": 55,
      "outputs": [
        {
          "output_type": "stream",
          "name": "stdout",
          "text": [
            "                                                Title  Price        Date\n",
            "0   Titan Men's Metropolitan Charm: Men's Multifun...  4,845  2025-01-22\n",
            "1   Titan Men's Metropolitan Charm: Men's Multifun...  4,845  2025-01-22\n",
            "2   Titan Men's Metropolitan Charm: Men's Multifun...  4,845  2025-01-22\n",
            "3   Titan Men's Metropolitan Charm: Men's Multifun...  4,845  2025-01-22\n",
            "4   Titan Men's Metropolitan Charm: Men's Multifun...  4,845  2025-01-22\n",
            "5   Titan Men's Metropolitan Charm: Men's Multifun...  4,845  2025-01-22\n",
            "6   Titan Men's Metropolitan Charm: Men's Multifun...  4,845  2025-01-22\n",
            "7   Titan Men's Metropolitan Charm: Men's Multifun...  4,845  2025-01-22\n",
            "8   Titan Men's Metropolitan Charm: Men's Multifun...  4,845  2025-01-22\n",
            "9   Titan Men's Metropolitan Charm: Men's Multifun...  4,845  2025-01-22\n",
            "10  Titan Men's Metropolitan Charm: Men's Multifun...  4,845  2025-01-22\n",
            "11  Titan Men's Metropolitan Charm: Men's Multifun...  4,845  2025-01-22\n",
            "12  Titan Men's Metropolitan Charm: Men's Multifun...  4,845  2025-01-22\n",
            "13  Titan Men's Metropolitan Charm: Men's Multifun...  4,845  2025-01-22\n",
            "14  Titan Men's Metropolitan Charm: Men's Multifun...  4,845  2025-01-22\n",
            "15  Titan Men's Metropolitan Charm: Men's Multifun...  4,845  2025-01-22\n",
            "16  Titan Men's Metropolitan Charm: Men's Multifun...  4,845  2025-01-22\n",
            "17  Titan Men's Metropolitan Charm: Men's Multifun...  4,845  2025-01-22\n",
            "18  Titan Men's Metropolitan Charm: Men's Multifun...  4,845  2025-01-22\n",
            "19  Titan Men's Metropolitan Charm: Men's Multifun...  4,845  2025-01-22\n",
            "20  Titan Men's Metropolitan Charm: Men's Multifun...  4,845  2025-01-22\n",
            "21  Titan Men's Metropolitan Charm: Men's Multifun...  4,845  2025-01-22\n",
            "22  Titan Men's Metropolitan Charm: Men's Multifun...  4,845  2025-01-22\n"
          ]
        }
      ]
    }
  ],
  "metadata": {
    "kernelspec": {
      "display_name": "Python 3 (ipykernel)",
      "language": "python",
      "name": "python3"
    },
    "language_info": {
      "codemirror_mode": {
        "name": "ipython",
        "version": 3
      },
      "file_extension": ".py",
      "mimetype": "text/x-python",
      "name": "python",
      "nbconvert_exporter": "python",
      "pygments_lexer": "ipython3",
      "version": "3.9.13"
    },
    "colab": {
      "provenance": []
    }
  },
  "nbformat": 4,
  "nbformat_minor": 5
}